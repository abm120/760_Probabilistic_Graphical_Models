{
 "cells": [
  {
   "cell_type": "markdown",
   "metadata": {},
   "source": [
    "# ECEN760 Homework 2 : Bayesian Network\n",
    "\n",
    "   **Name:**  \"Anil B Murthy\"                      \n",
    "   \n",
    "   **UIN: **  \"525006147\"\n",
    "   "
   ]
  },
  {
   "cell_type": "markdown",
   "metadata": {},
   "source": [
    "## Installation instructons:\n",
    "\n",
    "**Step-1: Setup Anaconda Enviornment**\n",
    "\n",
    "   We're going to use Python 2.7 (and a bunch of helpful libraries) using Anaconda platform. Anaconda advertises itself as \"the leading open data science platform powered by Python.\"\n",
    " \n",
    "Let's start by downloading the latest version of Anaconda:\n",
    "\n",
    "https://www.continuum.io/downloads\n",
    " \n",
    "Make sure to grab the Python 2.7 version (not the Python 3.5 one). You should find installers for Windows, Mac, and Linux.\n",
    "Once you install, you should find that the path to your python installation looks like:\n",
    " \n",
    "#Open the terminal window and type the following\n",
    "\n",
    "#windows users may skip the \"which python\" command\n",
    "\n",
    "> which python\n",
    "\n",
    "#you'll see something like this in linux:\n",
    "\n",
    "/Users/Nagaraj/anaconda/bin/python\n",
    " \n",
    " \n",
    "#Create environment for our class\n",
    "\n",
    "> conda create --name pgm760 python=2.7\n",
    "\n",
    "#To see list of our environments type\n",
    "\n",
    "> conda info --envs\n",
    "\n",
    "#update packages in this environment\n",
    "\n",
    "> conda install --name pgm760 matplotlib\n",
    "> conda install --name pgm760 jupyter\n",
    "> conda install --name pgm760 pyparsing\n",
    "\n",
    "#plus many others that we'll install later in the semester.\n",
    "\n",
    "#switch over to our new environment before you start coding\n",
    "\n",
    "> source activate pgm760\n",
    "\n",
    "#In Windows, the commands are \"activate pgm760\" and \"deactivate\"\n",
    "\n",
    "#you will see (pgm760) now\n",
    "\n",
    "\n",
    "#To open the Jupyter Notebook:\n",
    "\n",
    "> jupyter notebook \n",
    " \n",
    "#when you are done and close out jupyter, you can deactivate the current environment\n",
    "\n",
    "> source deactivate\n",
    "\n",
    "#You can find more info on conda here: http://conda.pydata.org/docs/using/pkgs.html\n",
    "\n",
    "**Step-2: Download and Install \"pgmpy\" library**\n",
    " \n",
    "Download:\n",
    " \n",
    " If you have git already setup, you can download the following repository by\n",
    " \n",
    "> git clone https://github.com/pgmpy/pgmpy\n",
    "\n",
    "or download and unzip from: https://github.com/pgmpy/pgmpy/archive/dev.zip\n",
    " \n",
    "Install:\n",
    " \n",
    " To install the dependencies switch to the pgmpy directory using:\n",
    " \n",
    "> cd /[path-to]/pgmpy\n",
    " \n",
    " Open the requirements.txt file and change \"pyparsing==2.1.8\" to \"pyparsing\" and save it.\n",
    " Remember to activate the \"pgm760\" enviornment\n",
    " Now install all the necessary requirements using conda:\n",
    " \n",
    "> conda install --file requirements.txt\n",
    " \n",
    " Then install the library using\n",
    " \n",
    "> sudo python setup.py install  \n",
    "\n",
    "#Windows users don't need the keyword \"sudo\"\n",
    " \n",
    "**Step-3: Validate the installation**\n",
    "\n",
    "Open jupyter notebook from the \"pgmpy\" directory:\n",
    "\n",
    "cd /path/to/pgmpy>> jupyter notebook\n",
    "\n",
    "Now open the file \"examples/Creating a Bayesian Network.ipynb\"\n",
    "\n",
    "Check if you can run the program without errors.\n",
    "\n"
   ]
  },
  {
   "cell_type": "markdown",
   "metadata": {},
   "source": [
    "# General Instructions:\n",
    "\n",
    "In this assignment, you will write a python program to build a Bayesian Model using the pgmpy module. \n",
    "\n",
    "* Since this is your first programming assignment using python, you're provided with the sketch of the program. You only need to complete the cells that says \" # Write your code here \". \n",
    "\n",
    "* Feel free to organize your code into multiple cells for better readability. \n",
    "* You may also create sub-functions/ definitions.\n",
    "* You may also import more standard libraries in addition to the libraries that are already imported in the preprocessing part.\n"
   ]
  },
  {
   "cell_type": "markdown",
   "metadata": {},
   "source": [
    "## Bayesian Network:"
   ]
  },
  {
   "cell_type": "markdown",
   "metadata": {},
   "source": [
    "Consider the following example from Koller's book to model a student's chance of getting a recommendation letter.\n",
    "\n",
    "![PGM](koller_example.png)\n"
   ]
  },
  {
   "cell_type": "code",
   "execution_count": 23,
   "metadata": {
    "collapsed": true
   },
   "outputs": [],
   "source": [
    "from pgmpy.models import BayesianModel\n",
    "from pgmpy.factors.discrete import TabularCPD\n",
    "from pgmpy.inference import VariableElimination"
   ]
  },
  {
   "cell_type": "markdown",
   "metadata": {},
   "source": [
    "Build your network here and assign the CPDs to the model."
   ]
  },
  {
   "cell_type": "code",
   "execution_count": 24,
   "metadata": {
    "collapsed": false
   },
   "outputs": [
    {
     "data": {
      "text/plain": [
       "True"
      ]
     },
     "execution_count": 24,
     "metadata": {},
     "output_type": "execute_result"
    }
   ],
   "source": [
    "student_recoLetter_model = BayesianModel([('Difficulty', 'Grade'),\n",
    "                                         ('Intelligence', 'Grade'),\n",
    "                                         ('Intelligence', 'SAT'),\n",
    "                                         ('Grade', 'Letter')])\n",
    "\n",
    "cpd_diff = TabularCPD(variable = 'Difficulty', variable_card = 2, values=[[0.6],[0.4]])\n",
    "cpd_intel = TabularCPD(variable = 'Intelligence', variable_card = 2, values=[[0.7],[0.3]])\n",
    "cpd_grade = TabularCPD(variable = 'Grade', variable_card = 3, \n",
    "                       values=[[0.3, 0.05, 0.9, 0.5],[0.4, 0.25, 0.08, 0.3],[0.3, 0.7, 0.02, 0.2]],\n",
    "                      evidence = ['Difficulty', 'Intelligence'],\n",
    "                      evidence_card = [2, 2])\n",
    "cpd_SAT = TabularCPD(variable = 'SAT', variable_card = 2, values=[[0.95, 0.2],[0.05, 0.8]],\n",
    "                    evidence = ['Intelligence'],\n",
    "                    evidence_card = [2])\n",
    "cpd_letter = TabularCPD(variable = 'Letter', variable_card = 2, values=[[0.1, 0.4, 0.99],[0.9, 0.6, 0.01]],\n",
    "                       evidence = ['Grade'],\n",
    "                       evidence_card = [3])\n",
    "\n",
    "student_recoLetter_model.add_cpds(cpd_diff, cpd_intel, cpd_grade, cpd_SAT, cpd_letter)\n",
    "\n",
    "student_recoLetter_model.check_model()"
   ]
  },
  {
   "cell_type": "code",
   "execution_count": null,
   "metadata": {
    "collapsed": true
   },
   "outputs": [],
   "source": []
  },
  {
   "cell_type": "markdown",
   "metadata": {},
   "source": [
    "Print the summary of the network - node and edges information. Also check if the CPDs match with the network. "
   ]
  },
  {
   "cell_type": "code",
   "execution_count": 25,
   "metadata": {
    "collapsed": false
   },
   "outputs": [
    {
     "data": {
      "text/plain": [
       "['Grade', 'Difficulty', 'SAT', 'Letter', 'Intelligence']"
      ]
     },
     "execution_count": 25,
     "metadata": {},
     "output_type": "execute_result"
    }
   ],
   "source": [
    "student_recoLetter_model.nodes()"
   ]
  },
  {
   "cell_type": "code",
   "execution_count": 26,
   "metadata": {
    "collapsed": false
   },
   "outputs": [
    {
     "data": {
      "text/plain": [
       "[('Grade', 'Letter'),\n",
       " ('Difficulty', 'Grade'),\n",
       " ('Intelligence', 'Grade'),\n",
       " ('Intelligence', 'SAT')]"
      ]
     },
     "execution_count": 26,
     "metadata": {},
     "output_type": "execute_result"
    }
   ],
   "source": [
    "student_recoLetter_model.edges()"
   ]
  },
  {
   "cell_type": "code",
   "execution_count": 27,
   "metadata": {
    "collapsed": false
   },
   "outputs": [
    {
     "data": {
      "text/plain": [
       "True"
      ]
     },
     "execution_count": 27,
     "metadata": {},
     "output_type": "execute_result"
    }
   ],
   "source": [
    "student_recoLetter_model.check_model()"
   ]
  },
  {
   "cell_type": "markdown",
   "metadata": {},
   "source": [
    "## Questions:"
   ]
  },
  {
   "cell_type": "markdown",
   "metadata": {},
   "source": [
    "**Qn 1.** Find the marginal distribution for all the 5 variables"
   ]
  },
  {
   "cell_type": "code",
   "execution_count": 36,
   "metadata": {
    "collapsed": false
   },
   "outputs": [
    {
     "data": {
      "text/plain": [
       "[<TabularCPD representing P(Difficulty:2) at 0xa32ec50L>,\n",
       " <TabularCPD representing P(Intelligence:2) at 0xa32ecc0L>,\n",
       " <TabularCPD representing P(Grade:3 | Difficulty:2, Intelligence:2) at 0xa32ecf8L>,\n",
       " <TabularCPD representing P(SAT:2 | Intelligence:2) at 0xa32ed30L>,\n",
       " <TabularCPD representing P(Letter:2 | Grade:3) at 0xa32ed68L>]"
      ]
     },
     "execution_count": 36,
     "metadata": {},
     "output_type": "execute_result"
    }
   ],
   "source": [
    "student_recoLetter_model.get_cpds()"
   ]
  },
  {
   "cell_type": "code",
   "execution_count": 37,
   "metadata": {
    "collapsed": false
   },
   "outputs": [
    {
     "name": "stdout",
     "output_type": "stream",
     "text": [
      "+--------------+-------------------+\n",
      "| Difficulty   |   phi(Difficulty) |\n",
      "|--------------+-------------------|\n",
      "| Difficulty_0 |            0.6000 |\n",
      "| Difficulty_1 |            0.4000 |\n",
      "+--------------+-------------------+\n"
     ]
    }
   ],
   "source": [
    "student_infer = VariableElimination(student_recoLetter_model)\n",
    "q = student_infer.query(variables=['Difficulty'])\n",
    "print(q['Difficulty'])"
   ]
  },
  {
   "cell_type": "code",
   "execution_count": 38,
   "metadata": {
    "collapsed": false
   },
   "outputs": [
    {
     "name": "stdout",
     "output_type": "stream",
     "text": [
      "+----------------+---------------------+\n",
      "| Intelligence   |   phi(Intelligence) |\n",
      "|----------------+---------------------|\n",
      "| Intelligence_0 |              0.7000 |\n",
      "| Intelligence_1 |              0.3000 |\n",
      "+----------------+---------------------+\n"
     ]
    }
   ],
   "source": [
    "q = student_infer.query(variables=['Intelligence'])\n",
    "print(q['Intelligence'])"
   ]
  },
  {
   "cell_type": "code",
   "execution_count": 39,
   "metadata": {
    "collapsed": false
   },
   "outputs": [
    {
     "name": "stdout",
     "output_type": "stream",
     "text": [
      "+-------+------------+\n",
      "| SAT   |   phi(SAT) |\n",
      "|-------+------------|\n",
      "| SAT_0 |     0.7250 |\n",
      "| SAT_1 |     0.2750 |\n",
      "+-------+------------+\n"
     ]
    }
   ],
   "source": [
    "q = student_infer.query(variables=['SAT'])\n",
    "print(q['SAT'])"
   ]
  },
  {
   "cell_type": "code",
   "execution_count": 40,
   "metadata": {
    "collapsed": false
   },
   "outputs": [
    {
     "name": "stdout",
     "output_type": "stream",
     "text": [
      "+---------+--------------+\n",
      "| Grade   |   phi(Grade) |\n",
      "|---------+--------------|\n",
      "| Grade_0 |       0.4470 |\n",
      "| Grade_1 |       0.2714 |\n",
      "| Grade_2 |       0.2816 |\n",
      "+---------+--------------+\n"
     ]
    }
   ],
   "source": [
    "q = student_infer.query(variables=['Grade'])\n",
    "print(q['Grade'])"
   ]
  },
  {
   "cell_type": "code",
   "execution_count": 41,
   "metadata": {
    "collapsed": false
   },
   "outputs": [
    {
     "name": "stdout",
     "output_type": "stream",
     "text": [
      "+----------+---------------+\n",
      "| Letter   |   phi(Letter) |\n",
      "|----------+---------------|\n",
      "| Letter_0 |        0.4320 |\n",
      "| Letter_1 |        0.5680 |\n",
      "+----------+---------------+\n"
     ]
    }
   ],
   "source": [
    "q = student_infer.query(variables=['Letter'])\n",
    "print(q['Letter'])"
   ]
  },
  {
   "cell_type": "markdown",
   "metadata": {},
   "source": [
    " **Qn 2.** Is the trail from Difficulty to SAT active given Letter ?"
   ]
  },
  {
   "cell_type": "code",
   "execution_count": 42,
   "metadata": {
    "collapsed": false
   },
   "outputs": [
    {
     "data": {
      "text/plain": [
       "True"
      ]
     },
     "execution_count": 42,
     "metadata": {},
     "output_type": "execute_result"
    }
   ],
   "source": [
    "student_recoLetter_model.is_active_trail('Difficulty', 'SAT', observed=['Letter'])"
   ]
  },
  {
   "cell_type": "markdown",
   "metadata": {},
   "source": [
    "**Qn 3.** List all the conditional independencies that are satisfied by the Bayesian network"
   ]
  },
  {
   "cell_type": "code",
   "execution_count": 46,
   "metadata": {
    "collapsed": false
   },
   "outputs": [
    {
     "data": {
      "text/plain": [
       "(Grade _|_ SAT | Intelligence)\n",
       "(Grade _|_ SAT | Difficulty, Intelligence)\n",
       "(Grade _|_ SAT | Intelligence, Letter)\n",
       "(Grade _|_ SAT | Difficulty, Letter, Intelligence)\n",
       "(Difficulty _|_ Intelligence, SAT)\n",
       "(Difficulty _|_ Letter | Grade)\n",
       "(Difficulty _|_ SAT | Intelligence)\n",
       "(Difficulty _|_ Intelligence | SAT)\n",
       "(Difficulty _|_ Letter, SAT | Grade, Intelligence)\n",
       "(Difficulty _|_ Letter | Grade, SAT)\n",
       "(Difficulty _|_ SAT | Intelligence, Letter)\n",
       "(Difficulty _|_ SAT | Grade, Intelligence, Letter)\n",
       "(Difficulty _|_ Letter | Grade, Intelligence, SAT)\n",
       "(SAT _|_ Difficulty)\n",
       "(SAT _|_ Letter | Grade)\n",
       "(SAT _|_ Grade, Difficulty, Letter | Intelligence)\n",
       "(SAT _|_ Letter | Grade, Difficulty)\n",
       "(SAT _|_ Difficulty, Letter | Grade, Intelligence)\n",
       "(SAT _|_ Grade, Letter | Difficulty, Intelligence)\n",
       "(SAT _|_ Grade, Difficulty | Intelligence, Letter)\n",
       "(SAT _|_ Letter | Grade, Difficulty, Intelligence)\n",
       "(SAT _|_ Difficulty | Grade, Intelligence, Letter)\n",
       "(SAT _|_ Grade | Difficulty, Letter, Intelligence)\n",
       "(Letter _|_ Difficulty, Intelligence, SAT | Grade)\n",
       "(Letter _|_ SAT | Intelligence)\n",
       "(Letter _|_ Intelligence, SAT | Grade, Difficulty)\n",
       "(Letter _|_ Difficulty, Intelligence | Grade, SAT)\n",
       "(Letter _|_ Difficulty, SAT | Grade, Intelligence)\n",
       "(Letter _|_ SAT | Difficulty, Intelligence)\n",
       "(Letter _|_ Intelligence | Grade, Difficulty, SAT)\n",
       "(Letter _|_ SAT | Grade, Difficulty, Intelligence)\n",
       "(Letter _|_ Difficulty | Grade, Intelligence, SAT)\n",
       "(Intelligence _|_ Difficulty)\n",
       "(Intelligence _|_ Letter | Grade)\n",
       "(Intelligence _|_ Difficulty | SAT)\n",
       "(Intelligence _|_ Letter | Grade, Difficulty)\n",
       "(Intelligence _|_ Letter | Grade, SAT)\n",
       "(Intelligence _|_ Letter | Grade, Difficulty, SAT)"
      ]
     },
     "execution_count": 46,
     "metadata": {},
     "output_type": "execute_result"
    }
   ],
   "source": [
    "student_recoLetter_model.get_independencies()"
   ]
  },
  {
   "cell_type": "code",
   "execution_count": null,
   "metadata": {
    "collapsed": true
   },
   "outputs": [],
   "source": []
  },
  {
   "cell_type": "code",
   "execution_count": null,
   "metadata": {
    "collapsed": true
   },
   "outputs": [],
   "source": []
  }
 ],
 "metadata": {
  "kernelspec": {
   "display_name": "Python 2",
   "language": "python",
   "name": "python2"
  },
  "language_info": {
   "codemirror_mode": {
    "name": "ipython",
    "version": 2
   },
   "file_extension": ".py",
   "mimetype": "text/x-python",
   "name": "python",
   "nbconvert_exporter": "python",
   "pygments_lexer": "ipython2",
   "version": "2.7.11"
  }
 },
 "nbformat": 4,
 "nbformat_minor": 2
}
